{
 "cells": [
  {
   "cell_type": "code",
   "execution_count": 1,
   "source": [
    "import time\n",
    "import tkinter as tk\n",
    "from tkinter import *\n",
    "from selenium import webdriver\n",
    "from selenium.webdriver.common.keys import Keys\n"
   ],
   "outputs": [],
   "metadata": {}
  },
  {
   "cell_type": "code",
   "execution_count": 2,
   "source": [
    "def startBombing():\n",
    "    victim=str(name.get())\n",
    "    msg=str(message.get())\n",
    "    num=msgCount.get()\n",
    "    driver=webdriver.Chrome('enter you path here example of a path : [C:/Users/91728/Desktop/pythonProject/chromedriver.exe] ')\n",
    "    driver.get(\"https://web.whatsapp.com/\")\n",
    "\n",
    "    time.sleep(15)\n",
    "    user=driver.find_element_by_xpath('//span[@title = \"'+victim+'\"]')\n",
    "    user.click()\n",
    "\n",
    "    msg_box=driver.find_element_by_xpath('//*[@id=\"main\"]/footer/div[1]/div[2]/div/div[2]')\n",
    "    for i in range(num):\n",
    "        msg_box.send_keys(msg)\n",
    "        msg_box.send_keys(Keys.ENTER)"
   ],
   "outputs": [],
   "metadata": {}
  },
  {
   "cell_type": "code",
   "execution_count": 3,
   "source": [
    "#GUI\n",
    "root=tk.Tk()\n",
    "root.title(\"Whatsapp Bombing\")\n",
    "root.geometry(\"500x500\")\n",
    "root.resizable(height=False,width=False)\n",
    "\n",
    "headingLabel=Label(root,text=\"Wait for 15 - 30 sec to start BOOM!\",font=('Helvetics',12,'bold'))\n",
    "headingLabel.place(relx=.5,y=15,anchor='center')"
   ],
   "outputs": [],
   "metadata": {}
  },
  {
   "cell_type": "code",
   "execution_count": 4,
   "source": [
    "# victim name label\n",
    "Label(root,text=\"Enter Name/No.\").place(x=120,y=80)\n",
    "name=StringVar()\n",
    "nameBox=Entry(root,textvariable=name).place(x=220,y=80)"
   ],
   "outputs": [],
   "metadata": {}
  },
  {
   "cell_type": "code",
   "execution_count": 5,
   "source": [
    "#  Msg label\n",
    "Label(root,text=\"Enter Message\").place(x=120,y=150)\n",
    "message=StringVar()\n",
    "msgBox=Entry(root,textvariable=message).place(x=220,y=150)\n",
    "\n",
    "Label(root,text=\"No Of Message\").place(x=120,y=220)\n",
    "msgCount=IntVar()\n",
    "countBox=Entry(root,textvariable=msgCount).place(x=220,y=220)\n",
    "tk.Button(root,text=\"Start Bombing\",command=startBombing).place(relx=.5,y=300,anchor=\"center\")\n",
    "root.mainloop()"
   ],
   "outputs": [
    {
     "output_type": "stream",
     "name": "stderr",
     "text": [
      "Exception in Tkinter callback\n",
      "Traceback (most recent call last):\n",
      "  File \"/usr/lib/python3.7/tkinter/__init__.py\", line 508, in get\n",
      "    return self._tk.getint(value)\n",
      "_tkinter.TclError: expected integer but got \"087836741009\"\n",
      "\n",
      "During handling of the above exception, another exception occurred:\n",
      "\n",
      "Traceback (most recent call last):\n",
      "  File \"/usr/lib/python3.7/tkinter/__init__.py\", line 1705, in __call__\n",
      "    return self.func(*args)\n",
      "  File \"/tmp/ipykernel_14598/344036141.py\", line 4, in startBombing\n",
      "    num=msgCount.get()\n",
      "  File \"/usr/lib/python3.7/tkinter/__init__.py\", line 510, in get\n",
      "    return int(self._tk.getdouble(value))\n",
      "_tkinter.TclError: expected floating-point number but got \"087836741009\" (looks like invalid octal number)\n"
     ]
    }
   ],
   "metadata": {}
  }
 ],
 "metadata": {
  "orig_nbformat": 4,
  "language_info": {
   "name": "python",
   "version": "3.7.12",
   "mimetype": "text/x-python",
   "codemirror_mode": {
    "name": "ipython",
    "version": 3
   },
   "pygments_lexer": "ipython3",
   "nbconvert_exporter": "python",
   "file_extension": ".py"
  },
  "kernelspec": {
   "name": "python3",
   "display_name": "Python 3.7.12 64-bit"
  },
  "interpreter": {
   "hash": "fd69f43f58546b570e94fd7eba7b65e6bcc7a5bbc4eab0408017d18902915d69"
  }
 },
 "nbformat": 4,
 "nbformat_minor": 2
}